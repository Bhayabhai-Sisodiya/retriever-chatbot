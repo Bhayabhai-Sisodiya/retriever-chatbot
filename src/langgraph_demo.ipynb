{
 "cells": [
  {
   "cell_type": "markdown",
   "id": "intro",
   "metadata": {},
   "source": [
    "# LangGraph Agent for Call Transcription Processing\n",
    "\n",
    "This notebook demonstrates how to use a LangGraph agent to process call transcription files and store them in Qdrant."
   ]
  },
  {
   "cell_type": "code",
   "execution_count": 1,
   "id": "setup",
   "metadata": {},
   "outputs": [
    {
     "name": "stderr",
     "output_type": "stream",
     "text": [
      "/home/ad.rapidops.com/bhayabhai.sisodiya/anaconda3/envs/ai-agents/lib/python3.11/site-packages/tqdm/auto.py:21: TqdmWarning: IProgress not found. Please update jupyter and ipywidgets. See https://ipywidgets.readthedocs.io/en/stable/user_install.html\n",
      "  from .autonotebook import tqdm as notebook_tqdm\n",
      "Fetching 30 files: 100%|██████████| 30/30 [00:00<00:00, 73498.32it/s]\n",
      "Fetching 30 files: 100%|██████████| 30/30 [00:00<00:00, 66017.38it/s]\n"
     ]
    }
   ],
   "source": [
    "from dotenv import load_dotenv\n",
    "_ = load_dotenv()\n",
    "\n",
    "import os\n",
    "from langgraph_agent import run_transcription_agent, create_agent"
   ]
  },
  {
   "cell_type": "code",
   "execution_count": 2,
   "id": "check-config",
   "metadata": {},
   "outputs": [
    {
     "name": "stdout",
     "output_type": "stream",
     "text": [
      "Configuration:\n",
      "OPENAI_API_KEY: ✅ Set\n",
      "QDRANT_URL: 127.0.0.1\n",
      "QDRANT_PORT: 6333\n"
     ]
    }
   ],
   "source": [
    "# Check configuration\n",
    "print(\"Configuration:\")\n",
    "print(f\"OPENAI_API_KEY: {'✅ Set' if os.getenv('OPENAI_API_KEY') else '❌ Not set'}\")\n",
    "print(f\"QDRANT_URL: {os.getenv('QDRANT_URL', 'localhost')}\")\n",
    "print(f\"QDRANT_PORT: {os.getenv('QDRANT_PORT', '6333')}\")"
   ]
  },
  {
   "cell_type": "markdown",
   "id": "basic-usage",
   "metadata": {},
   "source": [
    "## Basic Usage\n",
    "\n",
    "The LangGraph agent can understand natural language instructions to process transcription files."
   ]
  },
  {
   "cell_type": "code",
   "execution_count": 5,
   "id": "example-1",
   "metadata": {},
   "outputs": [
    {
     "name": "stdout",
     "output_type": "stream",
     "text": [
      "**File Information:**\n",
      "- Filename: 4_negotiation_call.txt\n",
      "- Processed: 2025-06-28T14:53:44.384361\n",
      "- Total Chunks: 12\n",
      "\n",
      "**Summary:**\n",
      "The call focused on finalizing commercial terms, legal redlines, and sign-off details for a contract. Key participants included the Account Executive (AE), prospects Neha, Raghav, Sara, Priya, and Arjun, as well as Maya from Pricing and Elena from Security. Important decisions included agreeing on pricing, SLA terms, legal clauses, and onboarding details. Action items included updating the contract, sending security documentation, scheduling a DocuSign call, and preparing for onboarding. The call concluded with plans to mark the deal as CLOSED-WON.\n"
     ]
    }
   ],
   "source": [
    "# Example 1: Basic transcription ingestion\n",
    "result = run_transcription_agent(\n",
    "    \"show me the last call transcript and summarize it\"\n",
    ")"
   ]
  },
  {
   "cell_type": "code",
   "execution_count": null,
   "id": "example-2",
   "metadata": {},
   "outputs": [
    {
     "name": "stderr",
     "output_type": "stream",
     "text": [
      "Fetching 30 files: 100%|██████████| 30/30 [00:00<00:00, 88988.06it/s]\n",
      "You're using a XLMRobertaTokenizerFast tokenizer. Please note that with a fast tokenizer, using the `__call__` method is faster than using a method to encode the text followed by a call to the `pad` method to get a padded encoding.\n"
     ]
    },
    {
     "name": "stdout",
     "output_type": "stream",
     "text": [
      "Processing transcription file: /home/ad.rapidops.com/bhayabhai.sisodiya/Documents/retriever-chatbot/4_negotiation_call.txt\n",
      "{'text': '[00:00] AE (Jordan):  Hi everyone—great to see a full house for what we hope is the final stretch.  On our side: I’m Jordan, Maya is back from Pricing, Elena from Security for any last clarifications, and our VP of Customer Success, Asha, in case onboarding timelines come up.  \\n[00:15] AE:  From your side I see Neha from Procurement, Raghav your CFO, Sara from Legal, Priya from RevOps, and Arjun from Security.  Did I miss anyone?  \\n[00:24] Prospect (Neha – Procurement):  That’s everyone, thanks Jordan.  Let’s get this wrapped.  \\n[00:28] AE:  Agenda in three parts: (1) confirm commercial terms, (2) legal redlines and SLA language, (3) sign-off path and timing.  We’ve blocked 75 minutes.  We can finish sooner if decisions fall quickly.  Sound good?  \\n[00:42] Prospect (Raghav – CFO):  Works.  I have another meeting at the top of the hour, so let’s keep pricing crisp.  \\n[00:49] AE:  Will do.  Quick recap of where we stand as of yesterday’s draft quote:  \\n\\n• Seats: **120** total—96 Growth, 24 Pro.  \\n• Term: **3 years** commencing 1 July 2025.  \\n• Net discount: **20 %** stacked (logo + volume + term).  \\n• Renewal uplift cap: **4 %**.  \\n• Dedicated CSM included for years 1-3.  \\n• 99.9 % SLA with 10 % monthly service-credit after 30 min cumulative downtime.  \\n• Early-termination option after year 1 with clawback of free pilot months.  \\n\\nDid I miss or misstate anything?  \\n[01:26] Prospect (Neha):  Renewal uplift reads 4 % cap in the PDF, but in the Word doc it still says 5 %.  Need that reconciled.  \\n[01:34] Maya (Pricing):  Good catch—I’ll update the body to 4 % before we DocuSign.  \\n[01:39] Prospect (Raghav):  Bigger picture: with that discount, total contract value is ₹6 crore 77 lakh over 36 months, correct?  \\n[01:47] Maya:  Correct—₹2 crore 25 lakh per year, invoiced annually in advance.  \\n[01:52] Prospect (Raghav):  Cash-flow wise we’d like net-30 terms, not net-15.  \\n[01:55] AE:  Understood.  We can stretch to **net-30** if payment is electronic transfer.  \\n[02:01] Prospect (Raghav):  Works.  Any finance surcharge?  \\n[02:03] Maya:  None.  \\n[02:05] Prospect (Neha):  Next—price-per-seat breakdown?  Finance wants visibility.  \\n[02:09] Maya:  Growth seats list at ₹1 800 monthly → ₹1 440 after discount.  Pro seats list ₹2 400 → ₹1 920 after discount.  Line items in Annex A reflect both.  \\n[02:20] Prospect (Neha):  Good.  CFO also requested a blended-rate sheet.  \\n[02:24] Maya:  That’s ₹1 563 per seat blended.  I’ll include that.  \\n[02:29] Prospect (Sara – Legal):  Jumping to contract redlines: we red-marked three clauses—governing law, limitation of liability, and intellectual-property indemnity.  \\n[02:38] AE:  Let’s tackle those one at a time.  Governing law: we default to State of Delaware.  You propose Karnataka courts.  Elena, any corporate stance?  \\n[02:49] Elena (CISO):  Delaware is preferred but we can accept Indian jurisdiction if arbitration seat is Singapore.  \\n[02:57] Prospect (Sara):  Arbitration in Singapore works.  \\n[02:59] AE:  Noted—will revise.  Liability cap: you requested 2× TCV; legal approved 1× TCV plus uncapped for IP and data-breach.  \\n[03:09] Prospect (Sara):  Fair.  We can live with 1×, provided data-breach carve-out is uncapped.  \\n[03:15] AE:  Agreed.  IP indemnity: we inserted standard industry language; you asked for defense-and-settle obligations.  We’re fine with that; we do prefer to control settlement amount.  \\n[03:25] Prospect (Sara):  Acceptable if “not unreasonable withheld” clause is added.  \\n[03:29] AE:  Done.  Anything else legal?  \\n[03:31] Prospect (Sara):  Data-processing addendum: add India DPDPA Annex besides GDPR SCC.  \\n[03:35] AE:  Elena has prepared that; we’ll attach.  \\n[03:39] Prospect (Arjun – Security):  SLA credit calculation: is it 10 % of **month’s** fee or prorated per hour?  \\n[03:45] AE:  10 % of monthly recurring fee if downtime >30 minutes aggregate per month.  Over 2 hours, credit escalates to 25 %.  \\n[03:54] Prospect (Arjun):  Document currently says “exceeds 120 minutes in a quarter.”  Please tweak.  \\n[03:58] Maya:  Will fix to monthly with step-ladder at 30 min and 120 min.  \\n[04:05] Prospect (Priya – RevOps):  Operational: we need Slack push notifications Day 1 and Hindi diarization GA by 30 Oct 2025.  Your SLR covers it but we want explicit penalty: 15 % SLA credit if feature slips.  \\n[04:18] AE:  We previously offered 10 %.  Maya?  \\n[04:20] Maya:  I can authorize 12 %.  15 % exceeds policy.  \\n[04:23] Prospect (Priya):  Let’s meet in the middle at 13 %.  \\n[04:26] AE:  Approved—13 % feature-slip credit.  Done.  \\n[04:30] Prospect (Neha):  Contract mgmt: we run DocuSign countersign within 24 hrs.  We need your signature same day or pricing resets to CFO’s FX table.  \\n[04:38] AE:  Understood.  As long as we get green light today, we can countersign within 2 hrs.  \\n[04:44] Prospect (Neha):  Perfect.  Next: We require a **Most-Favored-Nation** clause if you drop list price more than 15 % in India for equal volume.  \\n[04:53] AE:  We cannot provide full MFN.  Alternative: we notify you of list changes and you can reopen pricing if difference exceeds 20 %.  \\n[05:03] Prospect (Raghav):  Make it 18 % and we’re fine.  \\n[05:07] AE:  Maya?  \\n[05:08] Maya:  18 % MFN trigger accepted.  \\n[05:11] Prospect (Neha):  Renewal CPI cap?  Document says lesser of 4 % or CPI.  We want CPI cap at 6 % max.  \\n[05:20] AE:  Reasonable.  We’ll clarify “capped at 4 %, and in no event shall CPI adjustment exceed 6 %.”  \\n[05:27] Prospect (Neha):  Good.  Payment currency?  INR preferred.  \\n[05:31] Maya:  Contract denominated in INR, no FX adjustments.  \\n[05:34] Prospect (Raghav):  Excellent.  Next: training credits—do we get any onsite enablement?  \\n[05:39] Asha (VP CS):  We include two 3-hour virtual enablement sessions.  Onsite optional at ₹2 lakh per day plus travel.  For deals over ₹5 crore we waive one onsite day.  You’re at ₹6.77 crore—so one onsite day free.  \\n[05:53] Prospect (Priya):  Perfect.  Schedule Q3.  \\n[05:57] AE:  Logging these.  Seat ramp: we discussed adding 20 seats in year 2.  Renewal clause states we’ll bill for any seat usage above 120 with 30-day true-up.  \\n[06:08] Prospect (Priya):  Acceptable.  Just ensure we get co-terminated renewal dates.  \\n[06:12] AE:  Co-term OK.  \\n[06:14] Prospect (Sara):  Data-deletion SLA: draft says 30 days for DSR; can we guarantee 15 days?  \\n[06:20] Elena:  Our standard is 30.  We can shoot for 15 best-effort but commit to 30 contractually.  \\n[06:27] Prospect (Sara):  We need contractual 15.  \\n[06:29] Elena:  I can do 21 days hard SLA, 30 days remedy credit.  \\n[06:34] Prospect (Sara):  Split the diff—21 contractual is okay if credit is 15 % of monthly.  \\n[06:39] AE:  Approved.  Credit aligns with feature-slip credit.  \\n[06:44] Prospect (Arjun):  Pentest: annual?  \\n[06:46] Elena:  Yes, third-party NCC Group annually, plus continuous Bugcrowd.  \\n[06:50] Prospect (Arjun):  Provide report summary each cycle.  \\n[06:52] Elena:  Agreed.  \\n[06:53] Prospect (Raghav):  I’m satisfied on security.  So price is locked at ₹6.77 crore TCV, net-30, MFN 18 %, SLA monthly, feature-slip 13 %, onboarding free onsite day, governing law India w/ Singapore arbitration, termination after year 1 with clawback.  Correct?  \\n[07:12] AE:  Correct.  Let’s draft final contract.  Maya can push updated PDF in 45 min.  We’ll hold a mutual execution call at 4:00 PM IST today.  \\n[07:22] Prospect (Neha):  Works.  Please insert our PO number on invoice: PO-45267.  \\n[07:27] Maya:  Got it.  \\n[07:29] Prospective (Raghav):  Alright, I need to drop.  Priya and Neha will close the loop.  \\n[07:33] AE:  Thank you, Raghav.  We appreciate the partnership.  \\n[07:36] Prospect (Raghav):  Likewise, looking forward.  *leaves meeting*  \\n[07:40] Prospect (Neha):  Last housekeeping: MSA effective date is signature date, correct?  \\n[07:44] AE:  Yes.  \\n[07:46] Prospect (Neha):  And Service Credit is issued as invoice credit, not cash refund?  \\n[07:50] Maya:  Correct—credit applied to next invoice.  \\n[07:53] Prospect (Neha):  Perfect.  Priya, any RevOps blockers?  \\n[07:56] Prospect (Priya):  None—just need user-provisioning guide and sandbox by July 1.  \\n[08:01] Asha:  CS will open sandbox 48 hrs after signature and share SCIM guide.  \\n[08:07] Prospect (Arjun):  Security doc package link please.  \\n[08:10] Elena:  Will send post-call.  \\n[08:12] AE:  Team, any final concerns?  \\n[08:14] Prospect (Sara):  All good here.  \\n[08:16] AE:  Great.  Action items:  \\n\\n1. Maya updates quote and contract (45 min).  \\n2. Elena sends security package (30 min).  \\n3. AE to schedule 4:00 PM IST DocuSign call.  \\n4. Asha prepares onboarding checklist & sandbox.  \\n\\nIf all align, we’ll mark CLOSED-WON today.  \\n[08:32] Prospect (Neha):  Let’s get it done.  Thanks all.  \\n[08:34] *Call ends.*\\n\\n\\n', 'filename': '4_negotiation_call.txt', 'file_path': '/home/ad.rapidops.com/bhayabhai.sisodiya/Documents/retriever-chatbot/4_negotiation_call.txt'}\n",
      "Performing recursive chunking...\n",
      "Created 12 chunks\n",
      "Generating embeddings...\n",
      "embeddings shape: {'dense_vecs': array([[-0.04470289, -0.02226705,  0.0115583 , ..., -0.00183397,\n",
      "         0.0021398 ,  0.01030416],\n",
      "       [-0.07502013, -0.00427491, -0.03678733, ..., -0.05047704,\n",
      "        -0.00277929, -0.01230242],\n",
      "       [-0.06124445, -0.00481297, -0.01821698, ..., -0.03997989,\n",
      "         0.00262973,  0.01854894],\n",
      "       ...,\n",
      "       [-0.05736573, -0.01730542,  0.00030568, ..., -0.01449995,\n",
      "        -0.01408591, -0.00772279],\n",
      "       [-0.07065754, -0.01155121, -0.00845921, ..., -0.0325315 ,\n",
      "        -0.02435045, -0.01077189],\n",
      "       [-0.02298468, -0.00749445, -0.01625338, ..., -0.04483049,\n",
      "        -0.04737229,  0.00017394]], shape=(12, 1024), dtype=float32), 'lexical_weights': None, 'colbert_vecs': None}\n",
      "Chunk: [00:00] AE (Jordan):  Hi everyone—great to see a full house for what we hope is the final stretch.  On our side: I’m Jordan, Maya is back from Pricing, Elena from Security for any last clarifications, and our VP of Customer Success, Asha, in case onboarding timelines come up.  \n",
      "[00:15] AE:  From your side I see Neha from Procurement, Raghav your CFO, Sara from Legal, Priya from RevOps, and Arjun from Security.  Did I miss anyone?  \n",
      "[00:24] Prospect (Neha – Procurement):  That’s everyone, thanks Jordan.  Let’s get this wrapped.  \n",
      "[00:28] AE:  Agenda in three parts: (1) confirm commercial terms, (2) legal redlines and SLA language, (3) sign-off path and timing.  We’ve blocked 75 minutes.  We can finish sooner if decisions fall quickly.  Sound good?  \n",
      "[00:42] Prospect (Raghav – CFO):  Works.  I have another meeting at the top of the hour, so let’s keep pricing crisp.  \n",
      "[00:49] AE:  Will do.  Quick recap of where we stand as of yesterday’s draft quote:\n",
      "Chunk: • Seats: **120** total—96 Growth, 24 Pro.  \n",
      "• Term: **3 years** commencing 1 July 2025.  \n",
      "• Net discount: **20 %** stacked (logo + volume + term).  \n",
      "• Renewal uplift cap: **4 %**.  \n",
      "• Dedicated CSM included for years 1-3.  \n",
      "• 99.9 % SLA with 10 % monthly service-credit after 30 min cumulative downtime.  \n",
      "• Early-termination option after year 1 with clawback of free pilot months.\n",
      "Chunk: Did I miss or misstate anything?  \n",
      "[01:26] Prospect (Neha):  Renewal uplift reads 4 % cap in the PDF, but in the Word doc it still says 5 %.  Need that reconciled.  \n",
      "[01:34] Maya (Pricing):  Good catch—I’ll update the body to 4 % before we DocuSign.  \n",
      "[01:39] Prospect (Raghav):  Bigger picture: with that discount, total contract value is ₹6 crore 77 lakh over 36 months, correct?  \n",
      "[01:47] Maya:  Correct—₹2 crore 25 lakh per year, invoiced annually in advance.  \n",
      "[01:52] Prospect (Raghav):  Cash-flow wise we’d like net-30 terms, not net-15.  \n",
      "[01:55] AE:  Understood.  We can stretch to **net-30** if payment is electronic transfer.  \n",
      "[02:01] Prospect (Raghav):  Works.  Any finance surcharge?  \n",
      "[02:03] Maya:  None.  \n",
      "[02:05] Prospect (Neha):  Next—price-per-seat breakdown?  Finance wants visibility.  \n",
      "[02:09] Maya:  Growth seats list at ₹1 800 monthly → ₹1 440 after discount.  Pro seats list ₹2 400 → ₹1 920 after discount.  Line items in Annex A reflect both.\n",
      "Chunk: [02:09] Maya:  Growth seats list at ₹1 800 monthly → ₹1 440 after discount.  Pro seats list ₹2 400 → ₹1 920 after discount.  Line items in Annex A reflect both.  \n",
      "[02:20] Prospect (Neha):  Good.  CFO also requested a blended-rate sheet.  \n",
      "[02:24] Maya:  That’s ₹1 563 per seat blended.  I’ll include that.  \n",
      "[02:29] Prospect (Sara – Legal):  Jumping to contract redlines: we red-marked three clauses—governing law, limitation of liability, and intellectual-property indemnity.  \n",
      "[02:38] AE:  Let’s tackle those one at a time.  Governing law: we default to State of Delaware.  You propose Karnataka courts.  Elena, any corporate stance?  \n",
      "[02:49] Elena (CISO):  Delaware is preferred but we can accept Indian jurisdiction if arbitration seat is Singapore.  \n",
      "[02:57] Prospect (Sara):  Arbitration in Singapore works.  \n",
      "[02:59] AE:  Noted—will revise.  Liability cap: you requested 2× TCV; legal approved 1× TCV plus uncapped for IP and data-breach.\n",
      "Chunk: [02:57] Prospect (Sara):  Arbitration in Singapore works.  \n",
      "[02:59] AE:  Noted—will revise.  Liability cap: you requested 2× TCV; legal approved 1× TCV plus uncapped for IP and data-breach.  \n",
      "[03:09] Prospect (Sara):  Fair.  We can live with 1×, provided data-breach carve-out is uncapped.  \n",
      "[03:15] AE:  Agreed.  IP indemnity: we inserted standard industry language; you asked for defense-and-settle obligations.  We’re fine with that; we do prefer to control settlement amount.  \n",
      "[03:25] Prospect (Sara):  Acceptable if “not unreasonable withheld” clause is added.  \n",
      "[03:29] AE:  Done.  Anything else legal?  \n",
      "[03:31] Prospect (Sara):  Data-processing addendum: add India DPDPA Annex besides GDPR SCC.  \n",
      "[03:35] AE:  Elena has prepared that; we’ll attach.  \n",
      "[03:39] Prospect (Arjun – Security):  SLA credit calculation: is it 10 % of **month’s** fee or prorated per hour?\n",
      "Chunk: [03:35] AE:  Elena has prepared that; we’ll attach.  \n",
      "[03:39] Prospect (Arjun – Security):  SLA credit calculation: is it 10 % of **month’s** fee or prorated per hour?  \n",
      "[03:45] AE:  10 % of monthly recurring fee if downtime >30 minutes aggregate per month.  Over 2 hours, credit escalates to 25 %.  \n",
      "[03:54] Prospect (Arjun):  Document currently says “exceeds 120 minutes in a quarter.”  Please tweak.  \n",
      "[03:58] Maya:  Will fix to monthly with step-ladder at 30 min and 120 min.  \n",
      "[04:05] Prospect (Priya – RevOps):  Operational: we need Slack push notifications Day 1 and Hindi diarization GA by 30 Oct 2025.  Your SLR covers it but we want explicit penalty: 15 % SLA credit if feature slips.  \n",
      "[04:18] AE:  We previously offered 10 %.  Maya?  \n",
      "[04:20] Maya:  I can authorize 12 %.  15 % exceeds policy.  \n",
      "[04:23] Prospect (Priya):  Let’s meet in the middle at 13 %.  \n",
      "[04:26] AE:  Approved—13 % feature-slip credit.  Done.\n",
      "Chunk: [04:20] Maya:  I can authorize 12 %.  15 % exceeds policy.  \n",
      "[04:23] Prospect (Priya):  Let’s meet in the middle at 13 %.  \n",
      "[04:26] AE:  Approved—13 % feature-slip credit.  Done.  \n",
      "[04:30] Prospect (Neha):  Contract mgmt: we run DocuSign countersign within 24 hrs.  We need your signature same day or pricing resets to CFO’s FX table.  \n",
      "[04:38] AE:  Understood.  As long as we get green light today, we can countersign within 2 hrs.  \n",
      "[04:44] Prospect (Neha):  Perfect.  Next: We require a **Most-Favored-Nation** clause if you drop list price more than 15 % in India for equal volume.  \n",
      "[04:53] AE:  We cannot provide full MFN.  Alternative: we notify you of list changes and you can reopen pricing if difference exceeds 20 %.  \n",
      "[05:03] Prospect (Raghav):  Make it 18 % and we’re fine.  \n",
      "[05:07] AE:  Maya?  \n",
      "[05:08] Maya:  18 % MFN trigger accepted.  \n",
      "[05:11] Prospect (Neha):  Renewal CPI cap?  Document says lesser of 4 % or CPI.  We want CPI cap at 6 % max.\n",
      "Chunk: [05:07] AE:  Maya?  \n",
      "[05:08] Maya:  18 % MFN trigger accepted.  \n",
      "[05:11] Prospect (Neha):  Renewal CPI cap?  Document says lesser of 4 % or CPI.  We want CPI cap at 6 % max.  \n",
      "[05:20] AE:  Reasonable.  We’ll clarify “capped at 4 %, and in no event shall CPI adjustment exceed 6 %.”  \n",
      "[05:27] Prospect (Neha):  Good.  Payment currency?  INR preferred.  \n",
      "[05:31] Maya:  Contract denominated in INR, no FX adjustments.  \n",
      "[05:34] Prospect (Raghav):  Excellent.  Next: training credits—do we get any onsite enablement?  \n",
      "[05:39] Asha (VP CS):  We include two 3-hour virtual enablement sessions.  Onsite optional at ₹2 lakh per day plus travel.  For deals over ₹5 crore we waive one onsite day.  You’re at ₹6.77 crore—so one onsite day free.  \n",
      "[05:53] Prospect (Priya):  Perfect.  Schedule Q3.  \n",
      "[05:57] AE:  Logging these.  Seat ramp: we discussed adding 20 seats in year 2.  Renewal clause states we’ll bill for any seat usage above 120 with 30-day true-up.\n",
      "Chunk: [05:57] AE:  Logging these.  Seat ramp: we discussed adding 20 seats in year 2.  Renewal clause states we’ll bill for any seat usage above 120 with 30-day true-up.  \n",
      "[06:08] Prospect (Priya):  Acceptable.  Just ensure we get co-terminated renewal dates.  \n",
      "[06:12] AE:  Co-term OK.  \n",
      "[06:14] Prospect (Sara):  Data-deletion SLA: draft says 30 days for DSR; can we guarantee 15 days?  \n",
      "[06:20] Elena:  Our standard is 30.  We can shoot for 15 best-effort but commit to 30 contractually.  \n",
      "[06:27] Prospect (Sara):  We need contractual 15.  \n",
      "[06:29] Elena:  I can do 21 days hard SLA, 30 days remedy credit.  \n",
      "[06:34] Prospect (Sara):  Split the diff—21 contractual is okay if credit is 15 % of monthly.  \n",
      "[06:39] AE:  Approved.  Credit aligns with feature-slip credit.  \n",
      "[06:44] Prospect (Arjun):  Pentest: annual?  \n",
      "[06:46] Elena:  Yes, third-party NCC Group annually, plus continuous Bugcrowd.  \n",
      "[06:50] Prospect (Arjun):  Provide report summary each cycle.  \n",
      "[06:52] Elena:  Agreed.\n",
      "Chunk: [06:46] Elena:  Yes, third-party NCC Group annually, plus continuous Bugcrowd.  \n",
      "[06:50] Prospect (Arjun):  Provide report summary each cycle.  \n",
      "[06:52] Elena:  Agreed.  \n",
      "[06:53] Prospect (Raghav):  I’m satisfied on security.  So price is locked at ₹6.77 crore TCV, net-30, MFN 18 %, SLA monthly, feature-slip 13 %, onboarding free onsite day, governing law India w/ Singapore arbitration, termination after year 1 with clawback.  Correct?  \n",
      "[07:12] AE:  Correct.  Let’s draft final contract.  Maya can push updated PDF in 45 min.  We’ll hold a mutual execution call at 4:00 PM IST today.  \n",
      "[07:22] Prospect (Neha):  Works.  Please insert our PO number on invoice: PO-45267.  \n",
      "[07:27] Maya:  Got it.  \n",
      "[07:29] Prospective (Raghav):  Alright, I need to drop.  Priya and Neha will close the loop.  \n",
      "[07:33] AE:  Thank you, Raghav.  We appreciate the partnership.  \n",
      "[07:36] Prospect (Raghav):  Likewise, looking forward.  *leaves meeting*\n",
      "Chunk: [07:33] AE:  Thank you, Raghav.  We appreciate the partnership.  \n",
      "[07:36] Prospect (Raghav):  Likewise, looking forward.  *leaves meeting*  \n",
      "[07:40] Prospect (Neha):  Last housekeeping: MSA effective date is signature date, correct?  \n",
      "[07:44] AE:  Yes.  \n",
      "[07:46] Prospect (Neha):  And Service Credit is issued as invoice credit, not cash refund?  \n",
      "[07:50] Maya:  Correct—credit applied to next invoice.  \n",
      "[07:53] Prospect (Neha):  Perfect.  Priya, any RevOps blockers?  \n",
      "[07:56] Prospect (Priya):  None—just need user-provisioning guide and sandbox by July 1.  \n",
      "[08:01] Asha:  CS will open sandbox 48 hrs after signature and share SCIM guide.  \n",
      "[08:07] Prospect (Arjun):  Security doc package link please.  \n",
      "[08:10] Elena:  Will send post-call.  \n",
      "[08:12] AE:  Team, any final concerns?  \n",
      "[08:14] Prospect (Sara):  All good here.  \n",
      "[08:16] AE:  Great.  Action items:\n",
      "Chunk: 1. Maya updates quote and contract (45 min).  \n",
      "2. Elena sends security package (30 min).  \n",
      "3. AE to schedule 4:00 PM IST DocuSign call.  \n",
      "4. Asha prepares onboarding checklist & sandbox.  \n",
      "\n",
      "If all align, we’ll mark CLOSED-WON today.  \n",
      "[08:32] Prospect (Neha):  Let’s get it done.  Thanks all.  \n",
      "[08:34] *Call ends.*\n",
      "[-0.04470289498567581, -0.022267045453190804, 0.011558296158909798, -0.013778353109955788, -0.0037984231021255255, -0.00537307420745492, 0.011054480448365211, 0.019586270675063133, 0.024560481309890747, 0.03675982728600502, 0.025892646983265877, 0.011488813906908035, 0.01242221798747778, 0.021080512553453445, 0.028182389214634895, 0.007865557447075844, 0.04568891599774361, -0.034197114408016205, 0.0029525167774409056, 0.0016945712268352509, -0.0006553793791681528, 0.041586458683013916, -0.036145757883787155, -0.012826901860535145, 0.05685008317232132, 0.025892145931720734, -0.04512884467840195, -0.028330828994512558, 0.004512202925980091, 0.05713324621319771, -0.03513556346297264, 0.04136533662676811, -0.0033664933871477842, -0.038881368935108185, 0.01855313964188099, -0.009833728894591331, 0.03091471828520298, -0.01710076443850994, -0.05399366840720177, -0.018847879022359848, -0.024237940087914467, 0.02956634759902954, 0.012607710435986519, -0.021143419668078423, 0.060208506882190704, -0.013766053132712841, 0.006355278193950653, -0.026716962456703186, 0.004145707469433546, -0.012432821094989777, -0.023966902866959572, -0.014310533180832863, 0.020498620346188545, -0.030438587069511414, 0.050325486809015274, 0.030092203989624977, 0.060796622186899185, -0.017536044120788574, -0.08513087034225464, 0.08105703443288803, -0.07454635202884674, 0.006713466718792915, 0.0039009074680507183, 0.024385113269090652, 0.03687409311532974, 0.07913073152303696, 0.007017302792519331, -0.014201582409441471, -0.01076743844896555, -0.002582431538030505, -0.032832320779561996, 0.0038431864231824875, 0.00782079342752695, 0.015422570519149303, -0.06711306422948837, 0.03859633207321167, 0.07011251896619797, 0.0007057334878481925, -0.026774464175105095, 0.016308056190609932, 0.03671945258975029, -0.002746874000877142, -0.01340198889374733, -0.050330646336078644, 0.02657792717218399, 0.002912525087594986, -0.037912677973508835, 0.07487171143293381, 0.014859223738312721, 0.001571265747770667, 0.0035774160642176867, -0.02165232039988041, 0.010884985327720642, -0.04529444873332977, 0.005092719569802284, 0.0028693710919469595, -0.04721591994166374, 0.016520464792847633, 0.002150309272110462, -0.0015732570318505168, 0.02644364722073078, -0.03805932030081749, 0.03415575623512268, -0.012993170879781246, 0.015513318590819836, 0.019151540473103523, 0.010542289353907108, 0.01521326880902052, 0.003915539942681789, -0.013970306143164635, 0.019111357629299164, 0.024922139942646027, 0.012835254892706871, 0.019637485966086388, -0.015679413452744484, -0.020810559391975403, -0.019764753058552742, 0.0038335565477609634, 0.01184809859842062, 0.021665293723344803, 0.015321087092161179, 0.006471329368650913, -0.026644008234143257, 0.0011839000508189201, -0.01729857549071312, -0.038192830979824066, 0.012079311534762383, 0.01253598928451538, 0.02304190956056118, 0.02206711284816265, 0.007280881050974131, 0.035650502890348434, -0.049504827708005905, 0.01806293986737728, -0.07954898476600647, -0.020823830738663673, 0.013822237960994244, -0.004058044869452715, -0.0009314170456491411, -0.04524645581841469, 0.07377369701862335, 0.024510160088539124, -0.041411686688661575, -0.014233211986720562, 0.03202779218554497, -0.02646283619105816, 0.020828941836953163, -0.008202617056667805, -0.008320639841258526, -0.04538309574127197, 0.018615376204252243, 0.015130667947232723, -0.004240676295012236, 0.001629469683393836, -0.03452075645327568, 0.011456206440925598, 0.004402135964483023, 0.05395239219069481, -0.022632353007793427, 0.04120606184005737, -0.02653212659060955, 0.03540495038032532, -0.05350855365395546, 0.007743168156594038, 0.037296976894140244, -0.015924954786896706, -0.00813948642462492, -0.013468803837895393, -0.018881941214203835, -0.023057706654071808, 0.0323406457901001, -0.02683914825320244, 0.0231715627014637, -0.03327770531177521, -0.001677030581049621, 0.02799535170197487, 0.06699046492576599, 0.02612183801829815, -0.01594509929418564, -0.027270454913377762, -0.02888539247214794, 0.04524596408009529, -0.01204516738653183, -0.013021817430853844, -0.029990751296281815, 0.0336146242916584, 0.01156043354421854, 0.0074648307636380196, -0.019551390781998634, 0.02812628448009491, -0.011304236948490143, -0.024588188156485558, 0.021668566390872, -0.03176548704504967, 0.028226645663380623, -0.01300594862550497, 0.006839342415332794, -0.008057364262640476, -0.010147064924240112, -0.038028884679079056, -0.045520711690187454, 0.046849604696035385, 0.04037212207913399, -0.015964381396770477, -0.05956082046031952, 0.004301912151277065, -0.022463543340563774, -0.024389080703258514, -0.0008259336464107037, -0.005335647147148848, 0.025252362713217735, -0.00040743345743976533, 0.02099788747727871, -0.010392319411039352, -0.06646611541509628, 0.037325143814086914, -0.006639870814979076, 0.0008995451498776674, 0.023115968331694603, 0.0168449729681015, -0.005234286189079285, -0.03347807005047798, -0.021302420645952225, -0.007156789302825928, 0.013995101675391197, -0.0075661297887563705, -0.05141321197152138, 0.06173187494277954, -0.010191350243985653, -0.02144611068069935, 0.013879356905817986, -0.0016634169733151793, 0.011271389201283455, -0.033284109085798264, 0.04833667725324631, 0.011603047139942646, 0.013812758959829807, 0.02437494695186615, 0.030461661517620087, 0.017587795853614807, 0.011003849096596241, 0.013955110684037209, 0.011722910217940807, -0.0005700091132894158, -0.0367952361702919, -0.02421814762055874, -0.02270134538412094, 0.032988086342811584, 0.002754435408860445, 0.014320709742605686, -0.0008179741562344134, -0.0396004393696785, -0.030411215499043465, -0.03281252831220627, 0.033038429915905, 0.02649286575615406, -0.014618122950196266, -0.016709046438336372, -0.026822324842214584, 0.027447303757071495, 0.0028959782794117928, -0.03005630150437355, 0.021588336676359177, 0.031610894948244095, 0.03001711145043373, -0.03821654990315437, -0.020165234804153442, 0.009544923901557922, -0.0148339057341218, 0.07944642752408981, 0.003024802776053548, 0.01718047261238098, 0.010058999061584473, -0.026208434253931046, 0.003405458526685834, 0.06670841574668884, 0.008234061300754547, -0.03446323052048683, 0.037756238132715225, 0.007806423120200634, 0.0415378175675869, 0.011701471172273159, 0.04506606236100197, -0.049552783370018005, 0.0719887763261795, -0.011664182879030704, -0.029093889519572258, 0.009857687167823315, 0.055439334362745285, -0.025220757350325584, 0.008750583976507187, 0.015168889425694942, 0.07313882559537888, -0.02246396243572235, 0.03849520534276962, 0.027682049199938774, -0.023435402661561966, -0.16891327500343323, -0.0012663741363212466, -0.02416861057281494, 0.01562558114528656, 0.004849944729357958, 0.021528035402297974, 0.023630021139979362, -0.04672704637050629, -0.026182180270552635, 0.06163054332137108, -0.002312924014404416, -0.03980502858757973, 0.032058071345090866, 0.011913605965673923, 0.010287717916071415, 0.017393343150615692, 0.013417774811387062, 0.01572328619658947, 0.03071148321032524, -0.03548508882522583, -0.046196240931749344, -0.022232912480831146, 0.04865291342139244, -0.028578000143170357, -0.01906447671353817, 0.00831255130469799, -0.011401633732020855, -0.025776155292987823, -0.0399041622877121, -0.011224390007555485, -0.04567838832736015, 0.017001310363411903, -0.005997402593493462, -0.0014443399850279093, 0.03651290759444237, 0.05537279322743416, -0.026897557079792023, -0.04450930282473564, -0.012232258915901184, 0.021552221849560738, 0.0020492214243859053, 0.03440408408641815, -0.03633619099855423, -0.009181292727589607, 0.012582766823470592, -0.014601977542042732, -0.00958915427327156, 0.00898819975554943, -0.04085879027843475, -0.04818374663591385, 0.023618988692760468, 0.005876536481082439, -0.013427283614873886, -0.021046889945864677, -0.04370885342359543, -0.004757057409733534, 0.014138649217784405, 0.04611293599009514, -0.020449165254831314, 0.025789840146899223, -0.033265288919210434, -0.010673461481928825, 0.02507794089615345, 0.01154065877199173, -0.028651947155594826, 0.02080855891108513, 0.018195662647485733, -0.003272634232416749, 0.029803400859236717, -0.001828327658586204, 0.0248416718095541, -0.023195525631308556, 0.00331980106420815, -0.033202510327100754, 0.013159433379769325, 0.05132020264863968, -0.05409068614244461, -0.02799488604068756, -0.025665760040283203, -0.10299810022115707, -0.006154851987957954, -0.015230889432132244, -0.025967659428715706, -0.0008915395010262728, -0.03918949142098427, -0.0001719532738206908, 0.017335880547761917, 0.04167543351650238, 0.06845980882644653, 0.22657698392868042, 0.017826933413743973, -0.006302081514149904, 0.013134813867509365, 0.0612017959356308, 0.004647160414606333, -0.0036744032986462116, 0.036342110484838486, -0.0317477323114872, -0.04880266264081001, 0.009667787700891495, -0.02696400135755539, -0.011514183133840561, 0.008503002114593983, -0.0002468583406880498, 0.011086623184382915, -0.03539503365755081, 0.01905224099755287, 0.05098990723490715, -0.027291757985949516, 0.027643561363220215, 0.012168623507022858, -0.023693878203630447, -0.04486347362399101, -0.06213545799255371, -0.047723010182380676, -0.007223359774798155, 0.013060461729764938, -0.017981495708227158, 0.02331516705453396, -0.013094274327158928, -0.013503540307283401, 0.021604403853416443, 0.027680959552526474, -0.02421625889837742, -0.010205949656665325, 0.061720747500658035, 0.05299609899520874, -0.060904618352651596, 0.00038459725328721106, -0.01399626862257719, -0.003623444586992264, -0.0021836848463863134, -0.027913155034184456, -0.011793483048677444, -0.013199148699641228, -0.019757097586989403, 0.02479885332286358, -0.036944709718227386, 0.0006622765795327723, -0.0302581824362278, -0.02215859480202198, -0.026080261915922165, -0.011739321984350681, 0.012397411279380322, -0.024992765858769417, -0.017457978799939156, 0.04031594097614288, -0.01923341304063797, 0.06506583094596863, 0.0038791231345385313, 0.028146179392933846, -0.014990156516432762, -0.0015085918130353093, -0.02232000045478344, 0.010240262374281883, -0.0023861839435994625, -0.0005950293852947652, 0.029137510806322098, -0.00241665355861187, 0.05130390077829361, 0.019775284454226494, -0.000190255421330221, 0.001201873761601746, 0.010438919998705387, -0.012530718930065632, -0.010639583691954613, 0.014498194679617882, 0.016108717769384384, 0.021343126893043518, -0.04042334109544754, -0.008725033141672611, -0.007506135851144791, 0.03149888664484024, 0.008637957274913788, -0.04745572805404663, -0.015771303325891495, 0.08553984761238098, -0.018638689070940018, 0.04247891902923584, 0.020868077874183655, 0.015526595525443554, -0.012605658732354641, -0.006613896694034338, 0.013854548335075378, 0.016001995652914047, 0.022648602724075317, 0.025488782674074173, -0.012019765563309193, 0.0131735410541296, -0.03342140465974808, -0.008727223612368107, 0.008148238062858582, -0.009681950323283672, -0.0025157732889056206, -0.03831274062395096, -0.010829446837306023, -0.04937278479337692, -0.06730552762746811, 0.03448595479130745, -0.06516674160957336, -0.025258954614400864, -0.015034100972115993, -0.02750307135283947, 0.057388968765735626, 0.049927838146686554, 0.004129485692828894, 0.04194427281618118, 0.0670708641409874, -0.0049275984056293964, 0.005858364049345255, 0.013228846713900566, -0.010002030059695244, 0.029256610199809074, 0.01458219438791275, -0.0824837014079094, -0.01552366279065609, 0.014092334546148777, -0.023404819890856743, 0.03676377981901169, -0.007557607721537352, -0.029948338866233826, -0.000681275618262589, 0.014356988482177258, 0.005744770634919405, 0.0163124930113554, 0.022471390664577484, -0.0008360554929822683, -0.03567568212747574, -0.014903103932738304, -0.054369520395994186, -0.008434592746198177, -0.007030699402093887, 0.024729952216148376, 0.026958195492625237, 0.01318699773401022, -0.022073086351156235, 0.022696198895573616, -0.00442032003775239, -0.018703345209360123, -0.011222600936889648, 0.04543463513255119, 0.003478161757811904, -0.03641972318291664, -0.0033168387599289417, -0.04159911349415779, 0.00622484739869833, 0.04054388776421547, -0.021252203732728958, -0.016595136374235153, -0.018679236993193626, -0.03309217840433121, 0.0409698449075222, 0.04135521128773689, 0.02963980846107006, 0.010749973356723785, -0.00043105974327772856, 0.029816700145602226, -0.019130965694785118, -0.03806270658969879, -0.031198006123304367, -0.036208443343639374, -0.016384633257985115, 0.05740645155310631, 0.034795261919498444, 0.00708770239725709, -0.0008567248587496579, -0.023107236251235008, 0.04389728605747223, -0.047452375292778015, 0.023914262652397156, -0.010749679058790207, -0.03943600505590439, 0.0035278124269098043, 0.007654410786926746, 0.008661343716084957, -0.006320748943835497, -0.000575309619307518, -0.006300296168774366, -0.03354271873831749, -0.03635590523481369, 0.08330077677965164, 0.035259854048490524, -0.03970281407237053, 0.02754666656255722, 0.03016204945743084, -0.02063923329114914, 0.034645311534404755, -0.02704739198088646, 0.007753090467303991, -0.031775977462530136, -0.012527769431471825, 0.003401890629902482, -0.02871580980718136, 0.02825036644935608, 0.0020308312959969044, 0.007733696140348911, 0.03037390485405922, -0.024894708767533302, 0.0034842088352888823, 0.05135779455304146, 0.019209904596209526, -0.02943558618426323, -0.0004882704233750701, -0.008859874680638313, -0.024709029123187065, 0.04006352648139, 0.04849861189723015, -0.005494885146617889, 0.013698945753276348, -0.01436687633395195, 0.03085842914879322, 0.05394279956817627, -0.09040890634059906, -0.018592040985822678, 0.007886023260653019, -0.00879327580332756, 0.0021064041648060083, 0.006332088727504015, 0.013146687299013138, -0.008699013851583004, -0.04280795156955719, 0.01016115490347147, 0.0013172168983146548, 0.016247175633907318, -0.01523181889206171, 0.022779680788517, 0.04544713348150253, -0.024179887026548386, -0.022854095324873924, -0.009037611074745655, 0.008513894863426685, 0.012644251808524132, 0.04125460982322693, 0.005185004323720932, 0.0658036321401596, -0.0639769583940506, -0.027829216793179512, 0.002839237917214632, 0.04474899172782898, 0.025153225287795067, -0.025750502943992615, 0.010949750430881977, -0.017379814758896828, 0.04154300317168236, -0.02889314852654934, 0.03067968599498272, -0.014709076844155788, -0.012377436272799969, -0.016660155728459358, -0.023035457357764244, 0.027325879782438278, 0.0014345040544867516, 0.01367636863142252, -0.05864729732275009, -0.0760185644030571, 0.06518150120973587, -0.01202429924160242, -0.022754844278097153, -0.009412730112671852, 0.01145942322909832, 0.00654199905693531, -0.02388158068060875, -0.011053049005568027, -0.009016549214720726, 0.01287655159831047, -0.031146226450800896, -0.00042821135139092803, 0.007494586054235697, -0.0004378120065666735, -0.022422639653086662, 0.07292892783880234, 0.054930247366428375, 0.022333139553666115, -0.03137988969683647, -0.0614449605345726, -0.053088486194610596, -0.016758468002080917, 0.02150401659309864, -0.0024089976213872433, 0.03679328411817551, -0.05177294462919235, -0.02067277580499649, -0.014049957506358624, 0.015729622915387154, -0.05183162912726402, 0.005626819562166929, -0.007781559601426125, -0.02962409518659115, -0.0022437674924731255, -0.024392571300268173, 0.03772129490971565, -0.012563719414174557, 0.0018037345726042986, 0.012001637369394302, 0.06567689776420593, -0.02580634318292141, -0.013127832673490047, 0.04352743923664093, 0.032029472291469574, 0.006910419557243586, -0.06939461827278137, -0.031632691621780396, 0.004109287168830633, 0.0508444607257843, -0.011947384104132652, 0.0448652021586895, 0.018765965476632118, 0.01145553681999445, 0.0029015180189162493, 0.031913872808218, -0.03663403540849686, -0.016204042360186577, -0.011119434610009193, -0.029737859964370728, 0.013998002745211124, -0.003115263767540455, -0.010354259982705116, -0.010136794298887253, 0.016081493347883224, -0.03987868130207062, -0.017716290429234505, -0.045636896044015884, -0.025756696239113808, 0.007627611048519611, 0.011309195309877396, 0.051046062260866165, 0.027835167944431305, 0.03769547492265701, -0.0073842923156917095, -0.0028476594015955925, 0.021864132955670357, 0.026730528101325035, -0.04328203946352005, 0.00014443737745750695, -0.0004017696192022413, 0.0209038183093071, 0.0001628182944841683, -0.031109659001231194, -0.008956169709563255, 0.0058534955605864525, -0.01692953146994114, -0.039589911699295044, -0.03472999483346939, -0.0023180777207016945, -0.00572163425385952, 0.029217233881354332, -0.002194302622228861, 0.03496190160512924, 0.015553758479654789, -0.029188817366957664, -0.006562096998095512, -0.02212490886449814, -0.027868611738085747, 0.01962699368596077, 0.037367913872003555, 0.0010650111362338066, -0.020892633125185966, 0.02605418488383293, -0.0034786411561071873, 0.007990296930074692, -0.01756180264055729, 0.04059154540300369, 0.011529314331710339, -0.008137324824929237, 0.025012889876961708, 0.013724740594625473, -0.035931333899497986, 0.027285972610116005, -0.022912096232175827, -0.0003201184154022485, -0.03000587224960327, -0.045236822217702866, -0.015137766487896442, 0.041402868926525116, -0.03306001052260399, 0.008303573355078697, -0.017542533576488495, 0.037875816226005554, 0.04094143584370613, -0.017521990463137627, -0.03650267422199249, -0.03228063881397247, -0.0062780240550637245, -0.14636096358299255, 0.02759583480656147, -0.011087356135249138, 0.01801178976893425, -0.04641302675008774, 0.02804134599864483, -0.033817488700151443, -0.0428774431347847, 0.010172657668590546, -0.020381182432174683, -0.024189366027712822, -0.061775341629981995, -0.03021290898323059, -0.004103734157979488, 0.030575035139918327, 0.00997284147888422, -0.026650410145521164, -0.017103619873523712, -0.05224645882844925, 0.026074249297380447, -0.013125265017151833, -0.03741646930575371, 0.01697581633925438, -0.00011870086746057495, 0.015547521412372589, 0.017149455845355988, 0.022076383233070374, -0.019362540915608406, -0.04714130610227585, -0.06025785952806473, 0.014304829761385918, -0.002300022402778268, 0.0044735814444720745, -0.0029396156314760447, -0.009468600153923035, 0.007726639974862337, -0.015962395817041397, -0.005502475891262293, -0.015745066106319427, -0.022160276770591736, -0.013386857695877552, 0.031559813767671585, 0.02165697142481804, -0.03199021890759468, -0.0349736213684082, 0.07799143344163895, -0.04544627666473389, -0.004545231349766254, -0.033707067370414734, -0.013770265504717827, -0.011849183589220047, 0.020618049427866936, -0.004486978519707918, 0.013069376349449158, 0.004728874657303095, -0.018347324803471565, 0.001085094758309424, 0.01268774177879095, -0.0034491729456931353, 0.02520747482776642, -0.05509042367339134, 0.007480970583856106, -0.03523550182580948, -0.06398560106754303, -0.013776210136711597, 0.018370619043707848, -0.038674451410770416, 0.00228192750364542, -0.04369816556572914, 0.04415042698383331, -0.001010370790027082, -0.04425337165594101, -0.022600041702389717, 0.0022775607649236917, 0.012673151679337025, -0.03109530732035637, -0.021093066781759262, -0.04531260207295418, -0.042400188744068146, -0.025445686653256416, -0.02233767695724964, 0.00839310884475708, -0.06041182577610016, 0.06405996531248093, 0.06754172593355179, -0.01045077946037054, -0.0046282545663416386, -0.01362085621803999, -0.05883491784334183, -0.022545266896486282, -0.059361640363931656, -0.003853560658171773, -0.011550785042345524, 0.05087093636393547, 0.009177730418741703, 0.05083814635872841, -0.02483513019979, -0.008905965834856033, 0.0029137860983610153, -0.02476770430803299, 0.0041802311316132545, -0.005712514743208885, 0.010768301784992218, -0.005007975734770298, -0.0376499705016613, -0.01675025187432766, 0.06371630728244781, 0.015836363658308983, -0.0027925302274525166, -0.006716695614159107, 0.000293129647616297, 0.0019075009040534496, -0.039340756833553314, 0.015421750955283642, -0.04950505122542381, -0.03632352873682976, 0.006583202164620161, 0.04741476848721504, -0.02413129061460495, 0.03455035015940666, -0.02082284912467003, -0.022094015032052994, -0.016715243458747864, -0.024680010974407196, 0.03872721269726753, 0.037876032292842865, 0.05440639704465866, 0.053449079394340515, 0.01598348282277584, 0.04151064530014992, -0.01630314625799656, -0.05320904031395912, 0.0269293375313282, -0.0025993958115577698, 0.005498879589140415, -0.003692625556141138, -0.002322085900232196, 0.027076080441474915, -0.06488804519176483, -0.02519809640944004, 0.012983743101358414, -0.031917814165353775, 0.0043114833533763885, -0.013065306469798088, -0.032154105603694916, -0.008867551572620869, 0.01731526479125023, 0.001507592503912747, -0.01719842664897442, -0.04909743368625641, 0.00016548536950722337, 0.024382829666137695, 0.0006938545848242939, 0.008202660828828812, 0.000545440474525094, 0.017618577927350998, 0.020104670897126198, -0.008615020662546158, 0.00444011902436614, 0.050773173570632935, -0.007194709964096546, -0.04533891752362251, -0.0418817400932312, -0.046963904052972794, 0.002759154187515378, 0.013121172785758972, -0.01268321555107832, -0.02297006919980049, 0.019686656072735786, -0.0005663741612806916, 0.0016834388952702284, 0.015965094789862633, -0.03815789148211479, 0.018233533948659897, 0.0035723233595490456, 0.010795410722494125, 0.02621876262128353, 0.01285388134419918, 0.08269431442022324, -0.023885641247034073, 0.022248202934861183, 0.016628514975309372, 0.01916421949863434, -0.021082688122987747, -0.002479447517544031, -0.0011872842442244291, 0.06217959523200989, 0.0029993606731295586, -0.00222137663513422, -0.02806084230542183, 0.007679161615669727, -0.0027023754082620144, 0.018140505999326706, 0.0003358743852004409, 0.043218888342380524, 0.026935111731290817, 0.006633128505200148, 0.02008078806102276, 0.0010643559508025646, 0.003488067304715514, -0.010813858360052109, -0.03655227646231651, -0.03167807683348656, -0.012125732377171516, -0.029211681336164474, 0.035849764943122864, -0.04637643322348595, -0.02095169946551323, -0.051423631608486176, 0.04630057513713837, -0.024380922317504883, 0.005311405286192894, -0.038259126245975494, -0.030862931162118912, -0.011717962101101875, 0.04873805120587349, 0.019289249554276466, 0.010602898895740509, 0.014845726080238819, -0.023281415924429893, 0.01609029807150364, 0.0021087119821459055, -0.0348239466547966, -0.001127721043303609, -0.015189506113529205, -0.02418743073940277, -0.03686585649847984, 0.031852688640356064, 0.029457634314894676, 0.04006808251142502, -0.05923902243375778, -0.02899649366736412, -0.009400909766554832, 0.04596301168203354, 0.030017899349331856, -0.029265426099300385, 0.03010982647538185, 0.031050629913806915, 0.004431027453392744, -0.018496857956051826, 0.05848076567053795, -0.0018339741509407759, 0.002139802323654294, 0.010304155759513378]\n",
      "Collection call_transcriptions already exists\n",
      "Upserting 12 points to collection call_transcriptions...\n"
     ]
    },
    {
     "name": "stderr",
     "output_type": "stream",
     "text": [
      "100%|██████████| 1/1 [00:00<00:00, 36.86it/s]"
     ]
    },
    {
     "name": "stdout",
     "output_type": "stream",
     "text": [
      "Successfully upserted 12 points\n",
      "Successfully processed /home/ad.rapidops.com/bhayabhai.sisodiya/Documents/retriever-chatbot/4_negotiation_call.txt\n",
      "Collection: call_transcriptions\n",
      "Total chunks: 12\n"
     ]
    },
    {
     "name": "stderr",
     "output_type": "stream",
     "text": [
      "\n"
     ]
    },
    {
     "name": "stdout",
     "output_type": "stream",
     "text": [
      "✅ Successfully ingested transcription from /home/ad.rapidops.com/bhayabhai.sisodiya/Documents/retriever-chatbot/4_negotiation_call.txt into collection 'call_transcriptions'\n"
     ]
    }
   ],
   "source": [
    "# Example 2: Different phrasing\n",
    "result = run_transcription_agent(\n",
    "    \"Load and process the transcription file at /home/bhayabhai.sisodiya/Documents/retriever-chatbot/4_negotiation_call.txt\"\n",
    ")"
   ]
  },
  {
   "cell_type": "code",
   "execution_count": 4,
   "id": "example-3",
   "metadata": {},
   "outputs": [
    {
     "name": "stdout",
     "output_type": "stream",
     "text": [
      "📋 **All Call Transcripts (4 files)**\n",
      "\n",
      "**File List:**\n",
      "1. **4_negotiation_call.txt**\n",
      "   - Processed: 2025-06-28 14:53\n",
      "   - Chunks: 12\n",
      "\n",
      "2. **2_pricing_call.txt**\n",
      "   - Processed: 2025-06-28 14:39\n",
      "   - Chunks: 11\n",
      "\n",
      "3. **3_objection_call.txt**\n",
      "   - Processed: 2025-06-28 14:01\n",
      "   - Chunks: 8\n",
      "\n",
      "4. **1_demo_call.txt**\n",
      "   - Processed: 2025-06-28 11:20\n",
      "   - Chunks: 10\n",
      "\n",
      "---\n",
      "✅ Total: 4 transcript files in collection 'call_transcriptions'\n"
     ]
    }
   ],
   "source": [
    "# Example 3\n",
    "result = run_transcription_agent(\n",
    "    \"list all the calls\"\n",
    ")"
   ]
  },
  {
   "cell_type": "code",
   "execution_count": 4,
   "id": "3fe529d5",
   "metadata": {},
   "outputs": [
    {
     "name": "stderr",
     "output_type": "stream",
     "text": [
      "pre tokenize: 100%|██████████| 1/1 [00:00<00:00, 87.92it/s]\n",
      "You're using a XLMRobertaTokenizerFast tokenizer. Please note that with a fast tokenizer, using the `__call__` method is faster than using a method to encode the text followed by a call to the `pad` method to get a padded encoding.\n",
      "Inference Embeddings: 100%|██████████| 1/1 [00:00<00:00, 17.02it/s]\n"
     ]
    },
    {
     "name": "stdout",
     "output_type": "stream",
     "text": [
      "**Question:** tell me what CRO said about our pricing?\n",
      "\n",
      "**Answer:**\n",
      "During the pricing call, the CRO (Chief Revenue Officer) discussed various discounts and pricing strategies to align with the prospect's needs. The CRO proposed a 20% discount for a 25-seat pilot, a 15% discount for a year-one commit of 120 seats, and a 4% renewal uplift cap. The total contract value (TCV) was calculated to be ₹67,73,760 for the prospect. The CRO also mentioned the possibility of seeking exceptions for slightly higher discounts. Additionally, the CRO addressed technical requests such as guaranteeing Slack early-access by pilot and Hindi diarization GA by Q4, which required a side-letter \"Service Level Release\" with penalties.\n",
      "\n",
      "Quotes from the transcript:\n",
      "- \"Let’s take a short sidebar. Maya and I can propose a logo-plus-case-study discount of 15% and stretch volume to 12% for year-one commit of 120 seats. That reaches 20% net, slightly above policy but we can seek exception.\" (Chunk 2)\n",
      "- \"That’d put TCV at ₹28,22,400 × 0.80 = ₹22,57,920/yr ⇒ ₹67,73,760 TCV.\" (Chunk 2)\n",
      "- \"Technical asks: guarantee Slack early-access by pilot, Hindi diarization GA by Q4. Those need side-letter “Service Level Release” with penalties.\" (Chunk 3)\n",
      "\n",
      "**Sources:** 20 relevant transcript chunks from collection 'call_transcriptions'\n"
     ]
    }
   ],
   "source": [
    "# Example 3\n",
    "result = run_transcription_agent(\n",
    "    \"tell me what CRO said about our pricing?\"\n",
    ")"
   ]
  },
  {
   "cell_type": "markdown",
   "id": "advanced-usage",
   "metadata": {},
   "source": [
    "## Advanced Usage\n",
    "\n",
    "You can also create the agent directly and interact with it step by step."
   ]
  },
  {
   "cell_type": "code",
   "execution_count": null,
   "id": "create-agent",
   "metadata": {},
   "outputs": [],
   "source": [
    "# Create the agent\n",
    "agent = create_agent()\n",
    "\n",
    "# Create initial state\n",
    "from langchain_core.messages import HumanMessage\n",
    "\n",
    "initial_state = {\n",
    "    \"messages\": [\n",
    "        HumanMessage(content=\"Process the transcription file at ./sample_call.txt\")\n",
    "    ]\n",
    "}\n",
    "\n",
    "# Run the agent\n",
    "result = agent.invoke(initial_state)\n",
    "\n",
    "# Print results\n",
    "for message in result[\"messages\"]:\n",
    "    print(f\"Type: {type(message).__name__}\")\n",
    "    print(f\"Content: {message.content}\")\n",
    "    print(\"-\" * 40)"
   ]
  },
  {
   "cell_type": "markdown",
   "id": "batch-processing",
   "metadata": {},
   "source": [
    "## Batch Processing\n",
    "\n",
    "Process multiple transcription files in sequence."
   ]
  },
  {
   "cell_type": "code",
   "execution_count": null,
   "id": "batch-example",
   "metadata": {},
   "outputs": [],
   "source": [
    "# List of transcription files to process\n",
    "transcription_files = [\n",
    "    \"/path/to/call_001.txt\",\n",
    "    \"/path/to/call_002.json\",\n",
    "    \"/path/to/call_003.csv\"\n",
    "]\n",
    "\n",
    "# Process each file\n",
    "results = []\n",
    "for file_path in transcription_files:\n",
    "    print(f\"\\n📁 Processing: {file_path}\")\n",
    "    print(\"=\" * 50)\n",
    "    \n",
    "    result = run_transcription_agent(\n",
    "        f\"Ingest the call transcription from {file_path}\",\n",
    "        verbose=True\n",
    "    )\n",
    "    results.append(result)\n",
    "\n",
    "print(f\"\\n✅ Processed {len(results)} transcription files\")"
   ]
  }
 ],
 "metadata": {
  "kernelspec": {
   "display_name": "ai-agents",
   "language": "python",
   "name": "python3"
  },
  "language_info": {
   "codemirror_mode": {
    "name": "ipython",
    "version": 3
   },
   "file_extension": ".py",
   "mimetype": "text/x-python",
   "name": "python",
   "nbconvert_exporter": "python",
   "pygments_lexer": "ipython3",
   "version": "3.11.11"
  }
 },
 "nbformat": 4,
 "nbformat_minor": 5
}
